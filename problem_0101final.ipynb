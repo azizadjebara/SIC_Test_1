{
  "nbformat": 4,
  "nbformat_minor": 0,
  "metadata": {
    "colab": {
      "name": "problem_0101final.ipynb",
      "provenance": []
    },
    "kernelspec": {
      "display_name": "Python 3",
      "language": "python",
      "name": "python3"
    },
    "language_info": {
      "codemirror_mode": {
        "name": "ipython",
        "version": 3
      },
      "file_extension": ".py",
      "mimetype": "text/x-python",
      "name": "python",
      "nbconvert_exporter": "python",
      "pygments_lexer": "ipython3",
      "version": "3.7.3"
    }
  },
  "cells": [
    {
      "cell_type": "markdown",
      "metadata": {
        "id": "uq6D1zF342nm"
      },
      "source": [
        "## Quiz #0101"
      ]
    },
    {
      "cell_type": "markdown",
      "metadata": {
        "id": "VVpWUZ_q42np"
      },
      "source": [
        "#### Provide the answers in Python code:"
      ]
    },
    {
      "cell_type": "markdown",
      "metadata": {
        "id": "RAfNVezg42nq"
      },
      "source": [
        "1).  In the class A, students' heights are:\n",
        "\n",
        "161.5 <br>\n",
        "165.9 <br>\n",
        "168.7 <br>\n",
        "163.1 <br>\n",
        "170.8 <br>\n",
        "167.2 <br>\n",
        "\n",
        "Calculate the mean height by using Python 'list' and 'for' loop:"
      ]
    },
    {
      "cell_type": "code",
      "metadata": {
        "colab": {
          "base_uri": "https://localhost:8080/"
        },
        "id": "YoZnJ66Q6q2P",
        "outputId": "6d672aa2-8cf0-41d8-9f29-84bb4429f743"
      },
      "source": [
        "    \n",
        "    Students_height_A = [161.5, 165.9, 168.7, 163.1, 170.8, 167.2]\n",
        "    list_sum = 0  \n",
        "    for number in Students_height_A:\n",
        "        list_sum = int(number) + list_sum\n",
        " \n",
        "    #calculate the average \n",
        "    list_avg = list_sum / len(Students_height_A)\n",
        "    print('The average of the height of the students  is: ', list_avg)\n",
        "\n"
      ],
      "execution_count": null,
      "outputs": [
        {
          "output_type": "stream",
          "text": [
            "The average of the height of the students  is:  165.66666666666666\n"
          ],
          "name": "stdout"
        }
      ]
    },
    {
      "cell_type": "markdown",
      "metadata": {
        "id": "gHBkMwRA42ns"
      },
      "source": [
        "2).  In the class B, students' heights are:\n",
        "\n",
        "172.5 <br>\n",
        "162.9 <br>\n",
        "161.7 <br>\n",
        "160.1 <br>\n",
        "161.8 <br>\n",
        "169.2 <br>\n",
        "\n",
        "Calculate the mean height by using Python 'list' and 'for' loop:"
      ]
    },
    {
      "cell_type": "code",
      "metadata": {
        "colab": {
          "base_uri": "https://localhost:8080/"
        },
        "id": "VDHwoUzuuc6c",
        "outputId": "3dc2a2ba-9dd0-4055-8b71-294dcdbb712c"
      },
      "source": [
        "    \n",
        "    Students_height_B = [172.5, 162.9, 161.7, 160.1, 161.8, 169.2]\n",
        "    list_sum = 0  \n",
        "    for number in Students_height_B:\n",
        "        list_sum = int(number) + list_sum\n",
        " \n",
        "    #calculate the average \n",
        "    list_avg = list_sum / len(Students_height_B)\n",
        "    print('The average of the height of the students  is: ', list_avg)\n",
        "    \n",
        "\n"
      ],
      "execution_count": null,
      "outputs": [
        {
          "output_type": "stream",
          "text": [
            "The average of the height of the students  is:  164.16666666666666\n"
          ],
          "name": "stdout"
        }
      ]
    },
    {
      "cell_type": "markdown",
      "metadata": {
        "id": "cQOLlSs042nt"
      },
      "source": [
        "3). The class A and the class B are joined together to form the class AB. Calculate the mean height by using Python 'list' and 'for' loop:"
      ]
    },
    {
      "cell_type": "code",
      "metadata": {
        "colab": {
          "base_uri": "https://localhost:8080/"
        },
        "id": "BPW39jxb42nu",
        "outputId": "166e5d35-aa31-49e2-ce6b-3c2db95c4e3e"
      },
      "source": [
        "data1 = [161.5, 165.9, 168.7, 163.1, 170.8, 167.2]\n",
        "data2 = [172.5, 162.9, 161.7, 160.1, 161.8, 169.2]\n",
        "data = data1 + data2\n",
        "def meanoflist(list):\n",
        "    res=0\n",
        "    for i in list:\n",
        "       res = res+i\n",
        "    mean = res/ len(list)\n",
        "    return round( mean,2)\n",
        "meanoflist(data)   "
      ],
      "execution_count": null,
      "outputs": [
        {
          "output_type": "execute_result",
          "data": {
            "text/plain": [
              "165.45"
            ]
          },
          "metadata": {
            "tags": []
          },
          "execution_count": 24
        }
      ]
    },
    {
      "cell_type": "markdown",
      "metadata": {
        "id": "mk3qzeY542nu"
      },
      "source": [
        "[link text](https://)4). Sort the heights of the class AB."
      ]
    },
    {
      "cell_type": "code",
      "metadata": {
        "colab": {
          "base_uri": "https://localhost:8080/"
        },
        "id": "p09NS8jo_Siv",
        "outputId": "159844e7-37f6-4a18-8ca7-3b9312d03e2f"
      },
      "source": [
        "data1=[161.5, 165.9, 168.7, 163.1, 170.8, 167.2]\n",
        "data2=[172.5, 162.9, 161.7, 160.1, 161.8, 169.2]\n",
        "numbers = data1+data2 \n",
        "numbers.sort()\n",
        "  \n",
        "print(numbers)"
      ],
      "execution_count": null,
      "outputs": [
        {
          "output_type": "stream",
          "text": [
            "[160.1, 161.5, 161.5, 161.7, 161.8, 162.9, 163.1, 163.1, 165.9, 165.9, 167.2, 167.2, 168.7, 168.7, 169.2, 170.8, 170.8, 172.5]\n"
          ],
          "name": "stdout"
        }
      ]
    },
    {
      "cell_type": "markdown",
      "metadata": {
        "id": "2GbgMZkJ42nv"
      },
      "source": [
        "5). The class C is formed with students with the height less than 165. Make a list 'C' containing the heights of the class C."
      ]
    },
    {
      "cell_type": "code",
      "metadata": {
        "id": "h7dHl75942nw",
        "colab": {
          "base_uri": "https://localhost:8080/"
        },
        "outputId": "b3efc9ef-3ae9-4d84-889a-46091ebc206d"
      },
      "source": [
        "c=[]\n",
        "data1=[161.5, 165.9, 168.7, 163.1, 170.8, 167.2]\n",
        "data2=[172.5, 162.9, 161.7, 160.1, 161.8, 169.2]\n",
        "numbers = data1+data2\n",
        "for x in numbers:\n",
        "     if x < 165:\n",
        "      c.append(x)\n",
        "print(c)"
      ],
      "execution_count": null,
      "outputs": [
        {
          "output_type": "stream",
          "text": [
            "[161.5, 163.1, 162.9, 161.7, 160.1, 161.8]\n"
          ],
          "name": "stdout"
        }
      ]
    },
    {
      "cell_type": "markdown",
      "metadata": {
        "id": "KT8XDYOU42nw"
      },
      "source": [
        "6). The class D is formed with students with the height larger than 160 and less than 170. Make a list containing the heights of the class D."
      ]
    },
    {
      "cell_type": "code",
      "metadata": {
        "id": "o5aaMIPs42nx",
        "colab": {
          "base_uri": "https://localhost:8080/"
        },
        "outputId": "c6c81db7-5a85-4beb-eb12-7a6c6b023dd9"
      },
      "source": [
        "D=[]\n",
        "data1=[161.5, 165.9, 168.7, 163.1, 170.8, 167.2]\n",
        "data2=[172.5, 162.9, 161.7, 160.1, 161.8, 169.2]\n",
        "numbers = data1+data2\n",
        "for x in numbers:\n",
        "     if x >  160 and x < 170 :\n",
        "      D.append(x)\n",
        "print(D)"
      ],
      "execution_count": null,
      "outputs": [
        {
          "output_type": "stream",
          "text": [
            "[161.5, 165.9, 168.7, 163.1, 167.2, 162.9, 161.7, 160.1, 161.8, 169.2]\n"
          ],
          "name": "stdout"
        }
      ]
    }
  ]
}
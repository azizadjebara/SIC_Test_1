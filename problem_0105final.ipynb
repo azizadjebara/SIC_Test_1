{
  "nbformat": 4,
  "nbformat_minor": 0,
  "metadata": {
    "kernelspec": {
      "display_name": "Python 3",
      "language": "python",
      "name": "python3"
    },
    "language_info": {
      "codemirror_mode": {
        "name": "ipython",
        "version": 3
      },
      "file_extension": ".py",
      "mimetype": "text/x-python",
      "name": "python",
      "nbconvert_exporter": "python",
      "pygments_lexer": "ipython3",
      "version": "3.7.3"
    },
    "colab": {
      "name": "problem_0105final.ipynb",
      "provenance": []
    }
  },
  "cells": [
    {
      "cell_type": "markdown",
      "metadata": {
        "id": "QnuPctbwKvef"
      },
      "source": [
        "## Quiz #0105 "
      ]
    },
    {
      "cell_type": "markdown",
      "metadata": {
        "id": "r-HdTEDbKvel"
      },
      "source": [
        "#### Assignment: \n",
        "- Write a function named 'palindrome' to test whether the entered word or sentence is a palindrome.<br>\n",
        "- Ignore capitalization, spaces, punctuation marks, symbols, etc. <br>\n",
        "- Use the properties of 'queue' and 'stack' data structures. <br>"
      ]
    },
    {
      "cell_type": "markdown",
      "metadata": {
        "id": "E-uRqFN7Kven"
      },
      "source": [
        "Palindrome examples: <br>\n",
        "- mom\n",
        "- wow\n",
        "- noon\n",
        "- level\n",
        "- radar\n",
        "- kayak\n",
        "- racecar\n",
        "- God's dog\n",
        "- Madam, I'm Adam"
      ]
    },
    {
      "cell_type": "code",
      "metadata": {
        "id": "j3D6Ty_OKven"
      },
      "source": [
        "\n",
        "import pytest\n",
        "\n",
        "class Stack(object):\n",
        "  def __init__(self):\n",
        "    self.values = []\n",
        "  \n",
        "  def push(self, value):\n",
        "    self.values.append(value)\n",
        "\n",
        "  def pop(self):\n",
        "    return self.values.pop()\n",
        "\n",
        "class Queue(object):\n",
        "  def __init__(self):\n",
        "    self.values = []\n",
        "  \n",
        "  def push(self, value):\n",
        "    self.values.append(value)\n",
        "\n",
        "  def pop(self):\n",
        "    return self.values.pop(0)\n",
        "\n",
        "class palindrome(object):\n",
        "  def __init__(self, word):\n",
        "    self.word = word\n",
        "    self.queue = Queue()\n",
        "    self.stack = Stack()\n",
        "\n",
        "  def check_palindrome(self):\n",
        "    for letter in self.word:\n",
        "      self.queue.push(letter)\n",
        "      self.stack.push(letter)\n",
        "    for i in range(len(self.word)):\n",
        "      if self.queue.pop()!=self.stack.pop():\n",
        "        return False\n",
        "    return True"
      ],
      "execution_count": 1,
      "outputs": []
    },
    {
      "cell_type": "markdown",
      "metadata": {
        "id": "Eyou27trKveo"
      },
      "source": [
        "Test results:"
      ]
    },
    {
      "cell_type": "code",
      "metadata": {
        "id": "OquR43AYKvep",
        "colab": {
          "base_uri": "https://localhost:8080/"
        },
        "outputId": "e413c91d-0e18-43a6-dacc-7a60e01c7f53"
      },
      "source": [
        "palindrome_checker = palindrome(\"kayak\")\n",
        "print(palindrome_checker.check_palindrome())"
      ],
      "execution_count": 2,
      "outputs": [
        {
          "output_type": "stream",
          "name": "stdout",
          "text": [
            "True\n"
          ]
        }
      ]
    },
    {
      "cell_type": "code",
      "metadata": {
        "id": "x6LaweJmKver",
        "colab": {
          "base_uri": "https://localhost:8080/"
        },
        "outputId": "62942c43-fc1b-4903-cd8d-b4d781014d2a"
      },
      "source": [
        "palindrome_checker = palindrome(\"Madam, I'm Adam\")\n",
        "print(palindrome_checker.check_palindrome())"
      ],
      "execution_count": 3,
      "outputs": [
        {
          "output_type": "stream",
          "name": "stdout",
          "text": [
            "False\n"
          ]
        }
      ]
    },
    {
      "cell_type": "code",
      "metadata": {
        "id": "UAmy3hnhKves",
        "colab": {
          "base_uri": "https://localhost:8080/"
        },
        "outputId": "7f45a8ca-2b12-4db7-8978-a32703fa0388"
      },
      "source": [
        "palindrome_checker  = palindrome('Hello')\n",
        "print(palindrome_checker.check_palindrome())"
      ],
      "execution_count": 4,
      "outputs": [
        {
          "output_type": "stream",
          "name": "stdout",
          "text": [
            "False\n"
          ]
        }
      ]
    },
    {
      "cell_type": "code",
      "metadata": {
        "colab": {
          "base_uri": "https://localhost:8080/"
        },
        "id": "DgcgEwRfxKBV",
        "outputId": "1d2a1c32-93e0-4ce0-87c8-46785b5a0ff0"
      },
      "source": [
        "palindrome_checker = palindrome(\"noon\")\n",
        "print(palindrome_checker.check_palindrome())"
      ],
      "execution_count": 5,
      "outputs": [
        {
          "output_type": "stream",
          "name": "stdout",
          "text": [
            "True\n"
          ]
        }
      ]
    },
    {
      "cell_type": "code",
      "metadata": {
        "colab": {
          "base_uri": "https://localhost:8080/"
        },
        "id": "Vs0_yAlwxUm6",
        "outputId": "852771b5-eb9e-4a0c-e8d3-c53bc5be792b"
      },
      "source": [
        "palindrome_checker = palindrome(\"level\")\n",
        "print(palindrome_checker.check_palindrome())"
      ],
      "execution_count": 6,
      "outputs": [
        {
          "output_type": "stream",
          "name": "stdout",
          "text": [
            "True\n"
          ]
        }
      ]
    }
  ]
}